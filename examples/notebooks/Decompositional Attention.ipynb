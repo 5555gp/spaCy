{
 "cells": [
  {
   "cell_type": "markdown",
   "metadata": {},
   "source": [
    "# Natural language inference using spaCy and Keras"
   ]
  },
  {
   "cell_type": "markdown",
   "metadata": {},
   "source": [
    "## Introduction"
   ]
  },
  {
   "cell_type": "markdown",
   "metadata": {},
   "source": [
    "This notebook details an implementation of the natural language inference model presented in [(Parikh et al, 2016)](https://arxiv.org/abs/1606.01933).  The model is notable for the small number of paramaters *and hyperparameters* it specifices, while still yielding good performance."
   ]
  },
  {
   "cell_type": "markdown",
   "metadata": {},
   "source": [
    "## Constructing the dataset"
   ]
  },
  {
   "cell_type": "code",
   "execution_count": 1,
   "metadata": {},
   "outputs": [],
   "source": [
    "import spacy\n",
    "import numpy as np"
   ]
  },
  {
   "cell_type": "markdown",
   "metadata": {},
   "source": [
    "We only need the GloVe vectors from spaCy, not a full NLP pipeline."
   ]
  },
  {
   "cell_type": "code",
   "execution_count": 2,
   "metadata": {},
   "outputs": [],
   "source": [
    "nlp = spacy.load('en_vectors_web_lg')"
   ]
  },
  {
   "cell_type": "markdown",
   "metadata": {},
   "source": [
    "Function to load the SNLI dataset.  The categories are converted to one-shot representation.  The function comes from an example in spaCy."
   ]
  },
  {
   "cell_type": "code",
   "execution_count": 3,
   "metadata": {},
   "outputs": [
    {
     "name": "stderr",
     "output_type": "stream",
     "text": [
      "/home/jds/tensorflow-gpu/lib/python3.5/site-packages/h5py/__init__.py:36: FutureWarning: Conversion of the second argument of issubdtype from `float` to `np.floating` is deprecated. In future, it will be treated as `np.float64 == np.dtype(float).type`.\n",
      "  from ._conv import register_converters as _register_converters\n",
      "Using TensorFlow backend.\n"
     ]
    }
   ],
   "source": [
    "import ujson as json\n",
    "from keras.utils import to_categorical\n",
    "\n",
    "LABELS = {'entailment': 0, 'contradiction': 1, 'neutral': 2}\n",
    "def read_snli(path):\n",
    "    texts1 = []\n",
    "    texts2 = []\n",
    "    labels = []\n",
    "    with open(path, 'r') as file_:\n",
    "        for line in file_:\n",
    "            eg = json.loads(line)\n",
    "            label = eg['gold_label']\n",
    "            if label == '-':  # per Parikh, ignore - SNLI entries\n",
    "                continue\n",
    "            texts1.append(eg['sentence1'])\n",
    "            texts2.append(eg['sentence2'])\n",
    "            labels.append(LABELS[label])\n",
    "    return texts1, texts2, to_categorical(np.asarray(labels, dtype='int32'))"
   ]
  },
  {
   "cell_type": "markdown",
   "metadata": {},
   "source": [
    "Because Keras can do the train/test split for us, we'll load *all* SNLI triples from one file."
   ]
  },
  {
   "cell_type": "code",
   "execution_count": 4,
   "metadata": {},
   "outputs": [],
   "source": [
    "texts,hypotheses,labels = read_snli('snli/snli_all.jsonl')"
   ]
  },
  {
   "cell_type": "markdown",
   "metadata": {},
   "source": [
    "We use spaCy to tokenize the sentences and return, when available, a semantic vector for each token.  \n",
    "\n",
    "The vectors are assembled into an embedding matrix, one row per vector, and the resulting matrix is returned.  Note that only the vectors representing words actually used are returned, in order to save GPU memory.  This sharply limits the practical use of the trained model.\n",
    "\n",
    "OOV terms (tokens for which no semantic vector is available) are assigned to one of a set of randomly-generated OOV vectors, per (Parikh et al, 2016).\n"
   ]
  },
  {
   "cell_type": "code",
   "execution_count": 5,
   "metadata": {},
   "outputs": [],
   "source": [
    "def create_dataset(nlp, texts, hypotheses, num_oov, max_length):\n",
    "    sents = texts + hypotheses\n",
    "    sents_as_ids = []\n",
    "    rank_vector_map = {}\n",
    "    vectors = []\n",
    "    vocab = {}\n",
    "    \n",
    "    num_oov += 1 # an extra slot for sentence-final NULLs\n",
    "    # create random vectors for OOV tokens\n",
    "    oov = np.random.normal(size=(num_oov, nlp.vocab.vectors_length))\n",
    "    oov = oov / oov.sum(axis=1, keepdims=True)\n",
    "    \n",
    "    vector_id = num_oov\n",
    "    for sent in sents:\n",
    "        doc = nlp(sent)\n",
    "        word_ids = []\n",
    "        \n",
    "        for i, token in enumerate(doc):\n",
    "            if token.has_vector and token.vector_norm == 0:\n",
    "                continue\n",
    "                \n",
    "            if i > max_length:\n",
    "                break\n",
    "                \n",
    "            if token.rank in rank_vector_map:\n",
    "                word_ids.append(rank_vector_map[token.rank])\n",
    "            else:\n",
    "                if token.has_vector:\n",
    "                    rank_vector_map[token.rank] = vector_id\n",
    "                    vocab[vector_id] = token.text\n",
    "                    word_ids.append(vector_id)\n",
    "                    vector_id += 1\n",
    "                    vectors.append(token.vector / token.vector_norm)\n",
    "                else:\n",
    "                    word_ids.append(token.rank % (num_oov - 1) + 1)\n",
    "                    \n",
    "        word_id_vec = np.zeros((max_length))\n",
    "        clipped_len = min(max_length, len(word_ids))\n",
    "        word_id_vec[:clipped_len] = word_ids[:clipped_len]\n",
    "        sents_as_ids.append(word_id_vec)\n",
    "                    \n",
    "    embeddings = np.zeros((len(vectors) + num_oov, nlp.vocab.vectors_length))\n",
    "    embeddings[:num_oov, ] = oov\n",
    "    embeddings[num_oov:, ] = np.array(vectors)\n",
    "    \n",
    "    return embeddings, np.array(sents_as_ids[:len(texts)]), np.array(sents_as_ids[len(texts):]), vocab\n",
    "                "
   ]
  },
  {
   "cell_type": "markdown",
   "metadata": {},
   "source": [
    "Note that we will clip sentences to 50 words maximum."
   ]
  },
  {
   "cell_type": "code",
   "execution_count": 6,
   "metadata": {},
   "outputs": [],
   "source": [
    "sem_vectors, text_vectors, hypothesis_vectors, vocab = create_dataset(nlp, texts, hypotheses, 100, 50)"
   ]
  },
  {
   "cell_type": "code",
   "execution_count": 7,
   "metadata": {},
   "outputs": [
    {
     "data": {
      "text/plain": [
       "(569033, (35755, 300))"
      ]
     },
     "execution_count": 7,
     "metadata": {},
     "output_type": "execute_result"
    }
   ],
   "source": [
    "len(text_vectors), sem_vectors.shape"
   ]
  },
  {
   "cell_type": "markdown",
   "metadata": {},
   "source": [
    "## Building the model"
   ]
  },
  {
   "cell_type": "code",
   "execution_count": 8,
   "metadata": {},
   "outputs": [],
   "source": [
    "from keras import layers, Model, models\n",
    "from keras import backend as K"
   ]
  },
  {
   "cell_type": "markdown",
   "metadata": {},
   "source": [
    "The embedding layer copies the 300-dimensional GloVe vectors into GPU memory.  Per (Parikh et al, 2016), the vectors, which are not adapted during training, are projected down to lower-dimensional vectors using a trained projection matrix."
   ]
  },
  {
   "cell_type": "code",
   "execution_count": 9,
   "metadata": {},
   "outputs": [],
   "source": [
    "def create_embedding(vectors, max_length, projected_dim):\n",
    "    return models.Sequential([\n",
    "        layers.Embedding(\n",
    "            vectors.shape[0],\n",
    "            vectors.shape[1],\n",
    "            input_length=max_length,\n",
    "            weights=[vectors],\n",
    "            trainable=False),\n",
    "        \n",
    "        layers.TimeDistributed(\n",
    "            layers.Dense(projected_dim,\n",
    "                         activation=None,\n",
    "                         use_bias=False))\n",
    "    ])"
   ]
  },
  {
   "cell_type": "markdown",
   "metadata": {},
   "source": [
    "The Parikh model makes use of three feedforward blocks that construct nonlinear combinations of their input.  Each block contains two ReLU layers and two dropout layers."
   ]
  },
  {
   "cell_type": "code",
   "execution_count": 55,
   "metadata": {},
   "outputs": [],
   "source": [
    "def create_feedforward(num_units=200, activation='relu', dropout_rate=0.2):\n",
    "    return models.Sequential([\n",
    "        layers.Dense(num_units, activation=activation),\n",
    "        layers.Dropout(dropout_rate),\n",
    "        layers.Dense(num_units, activation=activation),\n",
    "        layers.Dropout(dropout_rate)\n",
    "    ])"
   ]
  },
  {
   "cell_type": "markdown",
   "metadata": {},
   "source": [
    "The basic idea of the (Parikh et al, 2016) model is to:\n",
    "\n",
    "1.  *Align*: Construct an alignment of subphrases in the text and hypothesis using an attention-like mechanism, called \"decompositional\" because the layer is applied to each of the two sentences individually rather than to their product.  The dot product of the nonlinear transformations of the inputs is then normalized vertically and horizontally to yield a pair of \"soft\" alignment structures, from text->hypothesis and hypothesis->text.  Concretely, for each word in one sentence, a multinomial distribution is computed over the words of the other sentence, by learning a multinomial logistic with softmax target.\n",
    "2.  *Compare*: Each word is now compared to its aligned phrase using a function modeled as a two-layer feedforward ReLU network.  The output is a high-dimensional representation of the strength of association between word and aligned phrase.\n",
    "3.  *Aggregate*: The comparison vectors are summed, separately, for the text and the hypothesis.  The result is two vectors: one that describes the degree of association of the text to the hypothesis, and the second, of the hypothesis to the text.\n",
    "4.  Finally, these two vectors are processed by a dense layer followed by a softmax classifier, as usual.\n",
    "\n",
    "Note that because in entailment the truth conditions of the consequent must be a subset of those of the antecedent, it is not obvious that we need both vectors in step (3).  Entailment is not symmetric.  It may be enough to just use the hypothesis->text vector.  We will explore this possibility later."
   ]
  },
  {
   "cell_type": "markdown",
   "metadata": {},
   "source": [
    "We need a couple of little functions for Lambda layers to normalize and aggregate weights:"
   ]
  },
  {
   "cell_type": "code",
   "execution_count": 56,
   "metadata": {},
   "outputs": [],
   "source": [
    "def normalizer(axis):\n",
    "    def _normalize(att_weights):\n",
    "        exp_weights = K.exp(att_weights)\n",
    "        sum_weights = K.sum(att_weights, axis=axis, keepdims=True)\n",
    "        return exp_weights/sum_weights\n",
    "    return _normalize\n",
    "\n",
    "def sum_word(x):\n",
    "    return K.sum(x, axis=1)\n"
   ]
  },
  {
   "cell_type": "code",
   "execution_count": 57,
   "metadata": {},
   "outputs": [],
   "source": [
    "def build_model(vectors, max_length, num_hidden, num_classes, projected_dim, entail_dir='both'):\n",
    "    input1 = layers.Input(shape=(max_length,), dtype='int32', name='words1')\n",
    "    input2 = layers.Input(shape=(max_length,), dtype='int32', name='words2')\n",
    "    \n",
    "    # embeddings (projected)\n",
    "    embed = create_embedding(vectors, max_length, projected_dim)\n",
    "   \n",
    "    a = embed(input1)\n",
    "    b = embed(input2)\n",
    "    \n",
    "    # step 1: attend\n",
    "    F = create_feedforward(num_hidden)\n",
    "    att_weights = layers.dot([F(a), F(b)], axes=-1)\n",
    "    \n",
    "    G = create_feedforward(num_hidden)\n",
    "    \n",
    "    if entail_dir == 'both':\n",
    "        norm_weights_a = layers.Lambda(normalizer(1))(att_weights)\n",
    "        norm_weights_b = layers.Lambda(normalizer(2))(att_weights)\n",
    "        alpha = layers.dot([norm_weights_a, a], axes=1)\n",
    "        beta  = layers.dot([norm_weights_b, b], axes=1)\n",
    "\n",
    "        # step 2: compare\n",
    "        comp1 = layers.concatenate([a, beta])\n",
    "        comp2 = layers.concatenate([b, alpha])\n",
    "        v1 = layers.TimeDistributed(G)(comp1)\n",
    "        v2 = layers.TimeDistributed(G)(comp2)\n",
    "\n",
    "        # step 3: aggregate\n",
    "        v1_sum = layers.Lambda(sum_word)(v1)\n",
    "        v2_sum = layers.Lambda(sum_word)(v2)\n",
    "        concat = layers.concatenate([v1_sum, v2_sum])\n",
    "    elif entail_dir == 'left':\n",
    "        norm_weights_a = layers.Lambda(normalizer(1))(att_weights)\n",
    "        alpha = layers.dot([norm_weights_a, a], axes=1)\n",
    "        comp2 = layers.concatenate([b, alpha])\n",
    "        v2 = layers.TimeDistributed(G)(comp2)\n",
    "        v2_sum = layers.Lambda(sum_word)(v2)\n",
    "        concat = v2_sum\n",
    "    else:\n",
    "        norm_weights_b = layers.Lambda(normalizer(2))(att_weights)\n",
    "        beta  = layers.dot([norm_weights_b, b], axes=1)\n",
    "        comp1 = layers.concatenate([a, beta])\n",
    "        v1 = layers.TimeDistributed(G)(comp1)\n",
    "        v1_sum = layers.Lambda(sum_word)(v1)\n",
    "        concat = v1_sum\n",
    "    \n",
    "    H = create_feedforward(num_hidden)\n",
    "    out = H(concat)\n",
    "    out = layers.Dense(num_classes, activation='softmax')(out)\n",
    "    \n",
    "    model = Model([input1, input2], out)\n",
    "    \n",
    "    model.compile(optimizer='adam',\n",
    "                  loss='categorical_crossentropy',\n",
    "                  metrics=['accuracy'])\n",
    "    return model\n",
    "    \n",
    "    \n",
    "    "
   ]
  },
  {
   "cell_type": "code",
   "execution_count": 58,
   "metadata": {},
   "outputs": [
    {
     "name": "stdout",
     "output_type": "stream",
     "text": [
      "__________________________________________________________________________________________________\n",
      "Layer (type)                    Output Shape         Param #     Connected to                     \n",
      "==================================================================================================\n",
      "words1 (InputLayer)             (None, 50)           0                                            \n",
      "__________________________________________________________________________________________________\n",
      "words2 (InputLayer)             (None, 50)           0                                            \n",
      "__________________________________________________________________________________________________\n",
      "sequential_73 (Sequential)      (None, 50, 200)      10786500    words1[0][0]                     \n",
      "                                                                 words2[0][0]                     \n",
      "__________________________________________________________________________________________________\n",
      "sequential_74 (Sequential)      (None, 50, 200)      80400       sequential_73[1][0]              \n",
      "                                                                 sequential_73[2][0]              \n",
      "__________________________________________________________________________________________________\n",
      "dot_45 (Dot)                    (None, 50, 50)       0           sequential_74[1][0]              \n",
      "                                                                 sequential_74[2][0]              \n",
      "__________________________________________________________________________________________________\n",
      "lambda_54 (Lambda)              (None, 50, 50)       0           dot_45[0][0]                     \n",
      "__________________________________________________________________________________________________\n",
      "lambda_53 (Lambda)              (None, 50, 50)       0           dot_45[0][0]                     \n",
      "__________________________________________________________________________________________________\n",
      "dot_47 (Dot)                    (None, 50, 200)      0           lambda_54[0][0]                  \n",
      "                                                                 sequential_73[2][0]              \n",
      "__________________________________________________________________________________________________\n",
      "dot_46 (Dot)                    (None, 50, 200)      0           lambda_53[0][0]                  \n",
      "                                                                 sequential_73[1][0]              \n",
      "__________________________________________________________________________________________________\n",
      "concatenate_35 (Concatenate)    (None, 50, 400)      0           sequential_73[1][0]              \n",
      "                                                                 dot_47[0][0]                     \n",
      "__________________________________________________________________________________________________\n",
      "concatenate_36 (Concatenate)    (None, 50, 400)      0           sequential_73[2][0]              \n",
      "                                                                 dot_46[0][0]                     \n",
      "__________________________________________________________________________________________________\n",
      "time_distributed_46 (TimeDistri (None, 50, 200)      120400      concatenate_35[0][0]             \n",
      "__________________________________________________________________________________________________\n",
      "time_distributed_47 (TimeDistri (None, 50, 200)      120400      concatenate_36[0][0]             \n",
      "__________________________________________________________________________________________________\n",
      "lambda_55 (Lambda)              (None, 200)          0           time_distributed_46[0][0]        \n",
      "__________________________________________________________________________________________________\n",
      "lambda_56 (Lambda)              (None, 200)          0           time_distributed_47[0][0]        \n",
      "__________________________________________________________________________________________________\n",
      "concatenate_37 (Concatenate)    (None, 400)          0           lambda_55[0][0]                  \n",
      "                                                                 lambda_56[0][0]                  \n",
      "__________________________________________________________________________________________________\n",
      "sequential_76 (Sequential)      (None, 200)          120400      concatenate_37[0][0]             \n",
      "__________________________________________________________________________________________________\n",
      "dense_152 (Dense)               (None, 3)            603         sequential_76[1][0]              \n",
      "==================================================================================================\n",
      "Total params: 11,108,303\n",
      "Trainable params: 381,803\n",
      "Non-trainable params: 10,726,500\n",
      "__________________________________________________________________________________________________\n"
     ]
    }
   ],
   "source": [
    "m = build_model(sem_vectors, 50, 200, 3, 200)\n",
    "m.summary()"
   ]
  },
  {
   "cell_type": "markdown",
   "metadata": {},
   "source": [
    "The number of trainable parameters, ~381k, is the number given by Parikh et al, so we're on the right track."
   ]
  },
  {
   "cell_type": "markdown",
   "metadata": {},
   "source": [
    "## Training the model"
   ]
  },
  {
   "cell_type": "markdown",
   "metadata": {},
   "source": [
    "Parikh et al use tiny batches of 4, training for 50MM batches, which amounts to around 500 epochs.  Here we'll use large batches to better use the GPU, and train for fewer epochs -- for purposes of this experiment."
   ]
  },
  {
   "cell_type": "code",
   "execution_count": 59,
   "metadata": {
    "scrolled": true
   },
   "outputs": [
    {
     "name": "stdout",
     "output_type": "stream",
     "text": [
      "Train on 455226 samples, validate on 113807 samples\n",
      "Epoch 1/50\n",
      "455226/455226 [==============================] - 32s 69us/step - loss: 1.0308 - acc: 0.4882 - val_loss: 0.8557 - val_acc: 0.6045\n",
      "Epoch 2/50\n",
      "455226/455226 [==============================] - 29s 65us/step - loss: 0.8443 - acc: 0.6166 - val_loss: 0.7438 - val_acc: 0.6821\n",
      "Epoch 3/50\n",
      "455226/455226 [==============================] - 29s 65us/step - loss: 0.7222 - acc: 0.6923 - val_loss: 0.6217 - val_acc: 0.7472\n",
      "Epoch 4/50\n",
      "455226/455226 [==============================] - 29s 65us/step - loss: 0.6638 - acc: 0.7257 - val_loss: 0.5881 - val_acc: 0.7637\n",
      "Epoch 5/50\n",
      "455226/455226 [==============================] - 29s 65us/step - loss: 0.6231 - acc: 0.7467 - val_loss: 0.5575 - val_acc: 0.7771\n",
      "Epoch 6/50\n",
      "455226/455226 [==============================] - 29s 65us/step - loss: 0.5934 - acc: 0.7606 - val_loss: 0.5303 - val_acc: 0.7887\n",
      "Epoch 7/50\n",
      "455226/455226 [==============================] - 29s 65us/step - loss: 0.6777 - acc: 0.7317 - val_loss: 0.7743 - val_acc: 0.7092\n",
      "Epoch 8/50\n",
      "455226/455226 [==============================] - 29s 65us/step - loss: 0.6191 - acc: 0.7499 - val_loss: 0.5918 - val_acc: 0.7837\n",
      "Epoch 9/50\n",
      "455226/455226 [==============================] - 29s 64us/step - loss: 0.5769 - acc: 0.7696 - val_loss: 0.5442 - val_acc: 0.7943\n",
      "Epoch 10/50\n",
      "455226/455226 [==============================] - 29s 64us/step - loss: 0.5597 - acc: 0.7773 - val_loss: 0.5272 - val_acc: 0.7995\n",
      "Epoch 11/50\n",
      "455226/455226 [==============================] - 29s 65us/step - loss: 0.5472 - acc: 0.7820 - val_loss: 0.5025 - val_acc: 0.8038\n",
      "Epoch 12/50\n",
      "455226/455226 [==============================] - 29s 65us/step - loss: 0.5358 - acc: 0.7874 - val_loss: 0.5001 - val_acc: 0.8075\n",
      "Epoch 13/50\n",
      "455226/455226 [==============================] - 29s 65us/step - loss: 0.5267 - acc: 0.7914 - val_loss: 0.4970 - val_acc: 0.8093\n",
      "Epoch 14/50\n",
      "455226/455226 [==============================] - 29s 65us/step - loss: 0.5185 - acc: 0.7949 - val_loss: 0.4884 - val_acc: 0.8126\n",
      "Epoch 15/50\n",
      "455226/455226 [==============================] - 29s 65us/step - loss: 0.5109 - acc: 0.7984 - val_loss: 0.4762 - val_acc: 0.8159\n",
      "Epoch 16/50\n",
      "455226/455226 [==============================] - 29s 65us/step - loss: 0.5056 - acc: 0.8007 - val_loss: 0.4776 - val_acc: 0.8152\n",
      "Epoch 17/50\n",
      "455226/455226 [==============================] - 29s 64us/step - loss: 0.4984 - acc: 0.8039 - val_loss: 0.4650 - val_acc: 0.8180\n",
      "Epoch 18/50\n",
      "455226/455226 [==============================] - 29s 65us/step - loss: 0.4946 - acc: 0.8055 - val_loss: 0.4641 - val_acc: 0.8170\n",
      "Epoch 19/50\n",
      "455226/455226 [==============================] - 29s 65us/step - loss: 0.4879 - acc: 0.8083 - val_loss: 0.4613 - val_acc: 0.8193\n",
      "Epoch 20/50\n",
      "455226/455226 [==============================] - 29s 64us/step - loss: 0.4854 - acc: 0.8098 - val_loss: 0.4532 - val_acc: 0.8217\n",
      "Epoch 21/50\n",
      "455226/455226 [==============================] - 29s 65us/step - loss: 0.4815 - acc: 0.8114 - val_loss: 0.4515 - val_acc: 0.8221\n",
      "Epoch 22/50\n",
      "455226/455226 [==============================] - 29s 65us/step - loss: 0.4768 - acc: 0.8133 - val_loss: 0.4523 - val_acc: 0.8234\n",
      "Epoch 23/50\n",
      "455226/455226 [==============================] - 29s 65us/step - loss: 0.4742 - acc: 0.8146 - val_loss: 0.4513 - val_acc: 0.8254\n",
      "Epoch 24/50\n",
      "455226/455226 [==============================] - 29s 65us/step - loss: 0.4700 - acc: 0.8164 - val_loss: 0.4501 - val_acc: 0.8240\n",
      "Epoch 25/50\n",
      "455226/455226 [==============================] - 29s 64us/step - loss: 0.4656 - acc: 0.8185 - val_loss: 0.4424 - val_acc: 0.8284\n",
      "Epoch 26/50\n",
      "455226/455226 [==============================] - 29s 64us/step - loss: 0.4641 - acc: 0.8190 - val_loss: 0.4406 - val_acc: 0.8283\n",
      "Epoch 27/50\n",
      "455226/455226 [==============================] - 29s 64us/step - loss: 0.4609 - acc: 0.8206 - val_loss: 0.4446 - val_acc: 0.8279\n",
      "Epoch 28/50\n",
      "455226/455226 [==============================] - 29s 65us/step - loss: 0.4576 - acc: 0.8221 - val_loss: 0.4415 - val_acc: 0.8292\n",
      "Epoch 29/50\n",
      "455226/455226 [==============================] - 29s 64us/step - loss: 0.4559 - acc: 0.8226 - val_loss: 0.4417 - val_acc: 0.8298\n",
      "Epoch 30/50\n",
      "455226/455226 [==============================] - 29s 64us/step - loss: 0.4538 - acc: 0.8235 - val_loss: 0.4373 - val_acc: 0.8306\n",
      "Epoch 31/50\n",
      "455226/455226 [==============================] - 29s 65us/step - loss: 0.4501 - acc: 0.8253 - val_loss: 0.4411 - val_acc: 0.8290\n",
      "Epoch 32/50\n",
      "455226/455226 [==============================] - 29s 64us/step - loss: 0.4490 - acc: 0.8258 - val_loss: 0.4358 - val_acc: 0.8310\n",
      "Epoch 33/50\n",
      "455226/455226 [==============================] - 29s 64us/step - loss: 0.4460 - acc: 0.8268 - val_loss: 0.4336 - val_acc: 0.8315\n",
      "Epoch 34/50\n",
      "455226/455226 [==============================] - 29s 65us/step - loss: 0.4442 - acc: 0.8281 - val_loss: 0.4391 - val_acc: 0.8294\n",
      "Epoch 35/50\n",
      "455226/455226 [==============================] - 29s 64us/step - loss: 0.4421 - acc: 0.8289 - val_loss: 0.4358 - val_acc: 0.8321\n",
      "Epoch 36/50\n",
      "455226/455226 [==============================] - 29s 65us/step - loss: 0.4410 - acc: 0.8293 - val_loss: 0.4324 - val_acc: 0.8331\n",
      "Epoch 37/50\n",
      "455226/455226 [==============================] - 29s 65us/step - loss: 0.4395 - acc: 0.8298 - val_loss: 0.4301 - val_acc: 0.8332\n",
      "Epoch 38/50\n",
      "455226/455226 [==============================] - 29s 65us/step - loss: 0.4373 - acc: 0.8308 - val_loss: 0.4321 - val_acc: 0.8332\n",
      "Epoch 39/50\n",
      "455226/455226 [==============================] - 29s 64us/step - loss: 0.4348 - acc: 0.8320 - val_loss: 0.4283 - val_acc: 0.8337\n",
      "Epoch 40/50\n",
      "455226/455226 [==============================] - 29s 65us/step - loss: 0.4329 - acc: 0.8323 - val_loss: 0.4286 - val_acc: 0.8355\n",
      "Epoch 41/50\n",
      "455226/455226 [==============================] - 29s 65us/step - loss: 0.4323 - acc: 0.8329 - val_loss: 0.4345 - val_acc: 0.8328\n",
      "Epoch 42/50\n",
      "455226/455226 [==============================] - 29s 65us/step - loss: 0.4312 - acc: 0.8334 - val_loss: 0.4279 - val_acc: 0.8345\n",
      "Epoch 43/50\n",
      "455226/455226 [==============================] - 29s 64us/step - loss: 0.4292 - acc: 0.8339 - val_loss: 0.4271 - val_acc: 0.8354\n",
      "Epoch 44/50\n",
      "455226/455226 [==============================] - 29s 65us/step - loss: 0.4268 - acc: 0.8353 - val_loss: 0.4249 - val_acc: 0.8364\n",
      "Epoch 45/50\n",
      "455226/455226 [==============================] - 29s 65us/step - loss: 0.4272 - acc: 0.8349 - val_loss: 0.4290 - val_acc: 0.8345\n",
      "Epoch 46/50\n",
      "455226/455226 [==============================] - 29s 64us/step - loss: 0.4242 - acc: 0.8359 - val_loss: 0.4281 - val_acc: 0.8348\n",
      "Epoch 47/50\n",
      "455226/455226 [==============================] - 29s 65us/step - loss: 0.4226 - acc: 0.8366 - val_loss: 0.4249 - val_acc: 0.8359\n",
      "Epoch 48/50\n",
      "455226/455226 [==============================] - 29s 65us/step - loss: 0.4237 - acc: 0.8363 - val_loss: 0.4244 - val_acc: 0.8356\n",
      "Epoch 49/50\n",
      "455226/455226 [==============================] - 29s 65us/step - loss: 0.4217 - acc: 0.8374 - val_loss: 0.4224 - val_acc: 0.8368\n",
      "Epoch 50/50\n",
      "455226/455226 [==============================] - 29s 65us/step - loss: 0.4196 - acc: 0.8380 - val_loss: 0.4243 - val_acc: 0.8356\n"
     ]
    },
    {
     "data": {
      "text/plain": [
       "<keras.callbacks.History at 0x7f045a7b0550>"
      ]
     },
     "execution_count": 59,
     "metadata": {},
     "output_type": "execute_result"
    }
   ],
   "source": [
    "m.fit([text_vectors, hypothesis_vectors], labels, batch_size=1024, epochs=50,validation_split=.2)"
   ]
  },
  {
   "cell_type": "markdown",
   "metadata": {},
   "source": [
    "The result is broadly in the region reported by Parikh et al: 83.6% vs 86.3%.  The 2.7% difference might be accounted by differences in `max_length` (here set at 50), in the training regime, and that here we use Keras' built-in validation splitting rather than the SNLI test set."
   ]
  },
  {
   "cell_type": "markdown",
   "metadata": {},
   "source": [
    "## Experiment: the asymmetric model"
   ]
  },
  {
   "cell_type": "markdown",
   "metadata": {},
   "source": [
    "It was suggested earlier that, based on the semantics of entailment, the vector representing the strength of association between the hypothesis to the text is all that is needed for classifying the entailment.\n",
    "\n",
    "The following model removes consideration of the complementary vector (text to hypothesis) from the computation.  This will decrease the paramater count slightly, because the final dense layers will be smaller, and speed up the forward pass when predicting, because fewer calculations will be needed."
   ]
  },
  {
   "cell_type": "code",
   "execution_count": 62,
   "metadata": {},
   "outputs": [
    {
     "name": "stdout",
     "output_type": "stream",
     "text": [
      "__________________________________________________________________________________________________\n",
      "Layer (type)                    Output Shape         Param #     Connected to                     \n",
      "==================================================================================================\n",
      "words2 (InputLayer)             (None, 50)           0                                            \n",
      "__________________________________________________________________________________________________\n",
      "words1 (InputLayer)             (None, 50)           0                                            \n",
      "__________________________________________________________________________________________________\n",
      "sequential_81 (Sequential)      (None, 50, 200)      10786500    words1[0][0]                     \n",
      "                                                                 words2[0][0]                     \n",
      "__________________________________________________________________________________________________\n",
      "sequential_82 (Sequential)      (None, 50, 200)      80400       sequential_81[1][0]              \n",
      "                                                                 sequential_81[2][0]              \n",
      "__________________________________________________________________________________________________\n",
      "dot_50 (Dot)                    (None, 50, 50)       0           sequential_82[1][0]              \n",
      "                                                                 sequential_82[2][0]              \n",
      "__________________________________________________________________________________________________\n",
      "lambda_59 (Lambda)              (None, 50, 50)       0           dot_50[0][0]                     \n",
      "__________________________________________________________________________________________________\n",
      "dot_51 (Dot)                    (None, 50, 200)      0           lambda_59[0][0]                  \n",
      "                                                                 sequential_81[1][0]              \n",
      "__________________________________________________________________________________________________\n",
      "concatenate_39 (Concatenate)    (None, 50, 400)      0           sequential_81[2][0]              \n",
      "                                                                 dot_51[0][0]                     \n",
      "__________________________________________________________________________________________________\n",
      "time_distributed_51 (TimeDistri (None, 50, 200)      120400      concatenate_39[0][0]             \n",
      "__________________________________________________________________________________________________\n",
      "lambda_60 (Lambda)              (None, 200)          0           time_distributed_51[0][0]        \n",
      "__________________________________________________________________________________________________\n",
      "sequential_84 (Sequential)      (None, 200)          80400       lambda_60[0][0]                  \n",
      "__________________________________________________________________________________________________\n",
      "dense_168 (Dense)               (None, 3)            603         sequential_84[1][0]              \n",
      "==================================================================================================\n",
      "Total params: 11,068,303\n",
      "Trainable params: 341,803\n",
      "Non-trainable params: 10,726,500\n",
      "__________________________________________________________________________________________________\n"
     ]
    }
   ],
   "source": [
    "m1 = build_model(sem_vectors, 50, 200, 3, 200, 'left')\n",
    "m1.summary()"
   ]
  },
  {
   "cell_type": "markdown",
   "metadata": {},
   "source": [
    "The parameter count has indeed decreased by 40,000, corresponding to the 200x200 smaller H function."
   ]
  },
  {
   "cell_type": "code",
   "execution_count": 63,
   "metadata": {},
   "outputs": [
    {
     "name": "stdout",
     "output_type": "stream",
     "text": [
      "Train on 455226 samples, validate on 113807 samples\n",
      "Epoch 1/50\n",
      "455226/455226 [==============================] - 24s 53us/step - loss: 1.0618 - acc: 0.4728 - val_loss: 0.8602 - val_acc: 0.6077\n",
      "Epoch 2/50\n",
      "455226/455226 [==============================] - 22s 48us/step - loss: 0.7855 - acc: 0.6555 - val_loss: 0.6628 - val_acc: 0.7231\n",
      "Epoch 3/50\n",
      "455226/455226 [==============================] - 22s 48us/step - loss: 0.6691 - acc: 0.7228 - val_loss: 0.5832 - val_acc: 0.7641\n",
      "Epoch 4/50\n",
      "455226/455226 [==============================] - 22s 48us/step - loss: 0.6167 - acc: 0.7497 - val_loss: 0.5480 - val_acc: 0.7796\n",
      "Epoch 5/50\n",
      "455226/455226 [==============================] - 22s 48us/step - loss: 0.5847 - acc: 0.7644 - val_loss: 0.5215 - val_acc: 0.7922\n",
      "Epoch 6/50\n",
      "455226/455226 [==============================] - 22s 48us/step - loss: 0.5626 - acc: 0.7747 - val_loss: 0.5079 - val_acc: 0.7970\n",
      "Epoch 7/50\n",
      "455226/455226 [==============================] - 22s 49us/step - loss: 0.5456 - acc: 0.7823 - val_loss: 0.4950 - val_acc: 0.8018\n",
      "Epoch 8/50\n",
      "455226/455226 [==============================] - 22s 48us/step - loss: 0.5317 - acc: 0.7885 - val_loss: 0.4880 - val_acc: 0.8069\n",
      "Epoch 9/50\n",
      "455226/455226 [==============================] - 22s 48us/step - loss: 0.5211 - acc: 0.7933 - val_loss: 0.4863 - val_acc: 0.8089\n",
      "Epoch 10/50\n",
      "455226/455226 [==============================] - 22s 48us/step - loss: 0.5120 - acc: 0.7978 - val_loss: 0.4709 - val_acc: 0.8153\n",
      "Epoch 11/50\n",
      "455226/455226 [==============================] - 22s 48us/step - loss: 0.5055 - acc: 0.8010 - val_loss: 0.4694 - val_acc: 0.8161\n",
      "Epoch 12/50\n",
      "455226/455226 [==============================] - 22s 48us/step - loss: 0.4972 - acc: 0.8043 - val_loss: 0.4684 - val_acc: 0.8154\n",
      "Epoch 13/50\n",
      "455226/455226 [==============================] - 22s 48us/step - loss: 0.4911 - acc: 0.8074 - val_loss: 0.4616 - val_acc: 0.8192\n",
      "Epoch 14/50\n",
      "455226/455226 [==============================] - 22s 48us/step - loss: 0.4863 - acc: 0.8093 - val_loss: 0.4611 - val_acc: 0.8172\n",
      "Epoch 15/50\n",
      "455226/455226 [==============================] - 22s 48us/step - loss: 0.4822 - acc: 0.8109 - val_loss: 0.4560 - val_acc: 0.8220\n",
      "Epoch 16/50\n",
      "455226/455226 [==============================] - 22s 48us/step - loss: 0.4769 - acc: 0.8134 - val_loss: 0.4573 - val_acc: 0.8214\n",
      "Epoch 17/50\n",
      "455226/455226 [==============================] - 22s 48us/step - loss: 0.4718 - acc: 0.8161 - val_loss: 0.4470 - val_acc: 0.8255\n",
      "Epoch 18/50\n",
      "455226/455226 [==============================] - 22s 48us/step - loss: 0.4682 - acc: 0.8170 - val_loss: 0.4436 - val_acc: 0.8263\n",
      "Epoch 19/50\n",
      "455226/455226 [==============================] - 22s 48us/step - loss: 0.4657 - acc: 0.8185 - val_loss: 0.4447 - val_acc: 0.8261\n",
      "Epoch 20/50\n",
      "455226/455226 [==============================] - 22s 48us/step - loss: 0.4621 - acc: 0.8200 - val_loss: 0.4405 - val_acc: 0.8285\n",
      "Epoch 21/50\n",
      "455226/455226 [==============================] - 22s 48us/step - loss: 0.4589 - acc: 0.8212 - val_loss: 0.4431 - val_acc: 0.8272\n",
      "Epoch 22/50\n",
      "455226/455226 [==============================] - 22s 48us/step - loss: 0.4576 - acc: 0.8218 - val_loss: 0.4411 - val_acc: 0.8280\n",
      "Epoch 23/50\n",
      "455226/455226 [==============================] - 22s 48us/step - loss: 0.4534 - acc: 0.8236 - val_loss: 0.4390 - val_acc: 0.8298\n",
      "Epoch 24/50\n",
      "455226/455226 [==============================] - 22s 48us/step - loss: 0.4511 - acc: 0.8251 - val_loss: 0.4330 - val_acc: 0.8318\n",
      "Epoch 25/50\n",
      "455226/455226 [==============================] - 22s 48us/step - loss: 0.4489 - acc: 0.8258 - val_loss: 0.4398 - val_acc: 0.8295\n",
      "Epoch 26/50\n",
      "455226/455226 [==============================] - 22s 48us/step - loss: 0.4471 - acc: 0.8265 - val_loss: 0.4335 - val_acc: 0.8318\n",
      "Epoch 27/50\n",
      "455226/455226 [==============================] - 22s 48us/step - loss: 0.4442 - acc: 0.8277 - val_loss: 0.4342 - val_acc: 0.8318\n",
      "Epoch 28/50\n",
      "455226/455226 [==============================] - 22s 48us/step - loss: 0.4416 - acc: 0.8290 - val_loss: 0.4263 - val_acc: 0.8357\n",
      "Epoch 29/50\n",
      "455226/455226 [==============================] - 22s 48us/step - loss: 0.4392 - acc: 0.8300 - val_loss: 0.4290 - val_acc: 0.8334\n",
      "Epoch 30/50\n",
      "455226/455226 [==============================] - 22s 48us/step - loss: 0.4376 - acc: 0.8307 - val_loss: 0.4328 - val_acc: 0.8336\n",
      "Epoch 31/50\n",
      "455226/455226 [==============================] - 22s 48us/step - loss: 0.4366 - acc: 0.8309 - val_loss: 0.4340 - val_acc: 0.8319\n",
      "Epoch 32/50\n",
      "455226/455226 [==============================] - 22s 48us/step - loss: 0.4343 - acc: 0.8318 - val_loss: 0.4334 - val_acc: 0.8306\n",
      "Epoch 33/50\n",
      "455226/455226 [==============================] - 22s 48us/step - loss: 0.4328 - acc: 0.8326 - val_loss: 0.4318 - val_acc: 0.8334\n",
      "Epoch 34/50\n",
      "455226/455226 [==============================] - 22s 48us/step - loss: 0.4308 - acc: 0.8337 - val_loss: 0.4299 - val_acc: 0.8342\n",
      "Epoch 35/50\n",
      "455226/455226 [==============================] - 22s 48us/step - loss: 0.4283 - acc: 0.8345 - val_loss: 0.4233 - val_acc: 0.8372\n",
      "Epoch 36/50\n",
      "455226/455226 [==============================] - 22s 48us/step - loss: 0.4273 - acc: 0.8356 - val_loss: 0.4251 - val_acc: 0.8366\n",
      "Epoch 37/50\n",
      "455226/455226 [==============================] - 22s 48us/step - loss: 0.4264 - acc: 0.8356 - val_loss: 0.4279 - val_acc: 0.8353\n",
      "Epoch 38/50\n",
      "455226/455226 [==============================] - 22s 48us/step - loss: 0.4261 - acc: 0.8357 - val_loss: 0.4293 - val_acc: 0.8344\n",
      "Epoch 39/50\n",
      "455226/455226 [==============================] - 22s 48us/step - loss: 0.4241 - acc: 0.8366 - val_loss: 0.4223 - val_acc: 0.8370\n",
      "Epoch 40/50\n",
      "455226/455226 [==============================] - 22s 48us/step - loss: 0.4220 - acc: 0.8371 - val_loss: 0.4213 - val_acc: 0.8378\n",
      "Epoch 41/50\n",
      "455226/455226 [==============================] - 22s 48us/step - loss: 0.4216 - acc: 0.8375 - val_loss: 0.4289 - val_acc: 0.8340\n",
      "Epoch 42/50\n",
      "455226/455226 [==============================] - 22s 48us/step - loss: 0.4186 - acc: 0.8388 - val_loss: 0.4235 - val_acc: 0.8371\n",
      "Epoch 43/50\n",
      "455226/455226 [==============================] - 22s 48us/step - loss: 0.4185 - acc: 0.8391 - val_loss: 0.4217 - val_acc: 0.8377\n",
      "Epoch 44/50\n",
      "455226/455226 [==============================] - 22s 48us/step - loss: 0.4171 - acc: 0.8394 - val_loss: 0.4230 - val_acc: 0.8373\n",
      "Epoch 45/50\n",
      "455226/455226 [==============================] - 22s 48us/step - loss: 0.4164 - acc: 0.8400 - val_loss: 0.4214 - val_acc: 0.8376\n",
      "Epoch 46/50\n",
      "455226/455226 [==============================] - 22s 48us/step - loss: 0.4158 - acc: 0.8400 - val_loss: 0.4216 - val_acc: 0.8371\n",
      "Epoch 47/50\n",
      "455226/455226 [==============================] - 22s 48us/step - loss: 0.4133 - acc: 0.8412 - val_loss: 0.4228 - val_acc: 0.8366\n",
      "Epoch 48/50\n",
      "455226/455226 [==============================] - 22s 48us/step - loss: 0.4125 - acc: 0.8412 - val_loss: 0.4234 - val_acc: 0.8374\n",
      "Epoch 49/50\n",
      "455226/455226 [==============================] - 22s 48us/step - loss: 0.4129 - acc: 0.8414 - val_loss: 0.4242 - val_acc: 0.8360\n",
      "Epoch 50/50\n",
      "455226/455226 [==============================] - 22s 48us/step - loss: 0.4107 - acc: 0.8418 - val_loss: 0.4229 - val_acc: 0.8372\n"
     ]
    },
    {
     "data": {
      "text/plain": [
       "<keras.callbacks.History at 0x7f045218e400>"
      ]
     },
     "execution_count": 63,
     "metadata": {},
     "output_type": "execute_result"
    }
   ],
   "source": [
    "m1.fit([text_vectors, hypothesis_vectors], labels, batch_size=1024, epochs=50,validation_split=.2)"
   ]
  },
  {
   "cell_type": "markdown",
   "metadata": {},
   "source": [
    "This model performs the same as the slightly more complex model that evaluates alignments in both directions.  Note also that processing time is improved, from 64 down to 48 microseconds per step. \n",
    "\n",
    "Let's now look at an asymmetric model that evaluates text to hypothesis comparisons.  The prediction is that such a model will correctly classify a decent proportion of the exemplars, but not as accurately as the previous two.\n",
    "\n",
    "We'll just use 10 epochs for expediency."
   ]
  },
  {
   "cell_type": "code",
   "execution_count": 39,
   "metadata": {},
   "outputs": [
    {
     "name": "stdout",
     "output_type": "stream",
     "text": [
      "__________________________________________________________________________________________________\n",
      "Layer (type)                    Output Shape         Param #     Connected to                     \n",
      "==================================================================================================\n",
      "words1 (InputLayer)             (None, 50)           0                                            \n",
      "__________________________________________________________________________________________________\n",
      "words2 (InputLayer)             (None, 50)           0                                            \n",
      "__________________________________________________________________________________________________\n",
      "sequential_49 (Sequential)      (None, 50, 200)      10786500    words1[0][0]                     \n",
      "                                                                 words2[0][0]                     \n",
      "__________________________________________________________________________________________________\n",
      "sequential_50 (Sequential)      (None, 50, 200)      80400       sequential_49[1][0]              \n",
      "                                                                 sequential_49[2][0]              \n",
      "__________________________________________________________________________________________________\n",
      "dot_28 (Dot)                    (None, 50, 50)       0           sequential_50[1][0]              \n",
      "                                                                 sequential_50[2][0]              \n",
      "__________________________________________________________________________________________________\n",
      "lambda_31 (Lambda)              (None, 50, 50)       0           dot_28[0][0]                     \n",
      "__________________________________________________________________________________________________\n",
      "dot_29 (Dot)                    (None, 50, 200)      0           lambda_31[0][0]                  \n",
      "                                                                 sequential_49[2][0]              \n",
      "__________________________________________________________________________________________________\n",
      "concatenate_19 (Concatenate)    (None, 50, 400)      0           sequential_49[1][0]              \n",
      "                                                                 dot_29[0][0]                     \n",
      "__________________________________________________________________________________________________\n",
      "time_distributed_29 (TimeDistri (None, 50, 200)      120400      concatenate_19[0][0]             \n",
      "__________________________________________________________________________________________________\n",
      "lambda_32 (Lambda)              (None, 200)          0           time_distributed_29[0][0]        \n",
      "__________________________________________________________________________________________________\n",
      "sequential_52 (Sequential)      (None, 200)          80400       lambda_32[0][0]                  \n",
      "__________________________________________________________________________________________________\n",
      "dense_104 (Dense)               (None, 3)            603         sequential_52[1][0]              \n",
      "==================================================================================================\n",
      "Total params: 11,068,303\n",
      "Trainable params: 341,803\n",
      "Non-trainable params: 10,726,500\n",
      "__________________________________________________________________________________________________\n"
     ]
    }
   ],
   "source": [
    "m2 = build_model(sem_vectors, 50, 200, 3, 200, 'right')\n",
    "m2.summary()"
   ]
  },
  {
   "cell_type": "code",
   "execution_count": 40,
   "metadata": {},
   "outputs": [
    {
     "name": "stdout",
     "output_type": "stream",
     "text": [
      "Train on 455226 samples, validate on 113807 samples\n",
      "Epoch 1/10\n",
      "455226/455226 [==============================] - 23s 51us/step - loss: 1.0867 - acc: 0.4557 - val_loss: 0.9319 - val_acc: 0.5581\n",
      "Epoch 2/10\n",
      "455226/455226 [==============================] - 22s 48us/step - loss: 0.9220 - acc: 0.5639 - val_loss: 0.8779 - val_acc: 0.5847\n",
      "Epoch 3/10\n",
      "455226/455226 [==============================] - 22s 48us/step - loss: 0.9168 - acc: 0.5634 - val_loss: 0.8819 - val_acc: 0.5966\n",
      "Epoch 4/10\n",
      "455226/455226 [==============================] - 22s 48us/step - loss: 0.8569 - acc: 0.6045 - val_loss: 0.8093 - val_acc: 0.6365\n",
      "Epoch 5/10\n",
      "455226/455226 [==============================] - 22s 48us/step - loss: 0.8287 - acc: 0.6234 - val_loss: 0.7977 - val_acc: 0.6475\n",
      "Epoch 6/10\n",
      "455226/455226 [==============================] - 22s 48us/step - loss: 0.8002 - acc: 0.6431 - val_loss: 0.7608 - val_acc: 0.6660\n",
      "Epoch 7/10\n",
      "455226/455226 [==============================] - 22s 48us/step - loss: 0.7814 - acc: 0.6540 - val_loss: 0.7508 - val_acc: 0.6734\n",
      "Epoch 8/10\n",
      "455226/455226 [==============================] - 22s 48us/step - loss: 0.7578 - acc: 0.6683 - val_loss: 0.7237 - val_acc: 0.6865\n",
      "Epoch 9/10\n",
      "455226/455226 [==============================] - 22s 48us/step - loss: 0.7389 - acc: 0.6786 - val_loss: 0.7227 - val_acc: 0.6905\n",
      "Epoch 10/10\n",
      "455226/455226 [==============================] - 22s 48us/step - loss: 0.7257 - acc: 0.6863 - val_loss: 0.6975 - val_acc: 0.7007\n"
     ]
    },
    {
     "data": {
      "text/plain": [
       "<keras.callbacks.History at 0x7f0469259ac8>"
      ]
     },
     "execution_count": 40,
     "metadata": {},
     "output_type": "execute_result"
    }
   ],
   "source": [
    "m2.fit([text_vectors, hypothesis_vectors], labels, batch_size=1024, epochs=10,validation_split=.2)"
   ]
  },
  {
   "cell_type": "markdown",
   "metadata": {},
   "source": [
    "Comparing this fit to the validation accuracy of the previous two models after 10 epochs, we observe that its accuracy is roughly 10% lower.\n",
    "\n",
    "It is reassuring that the neural modeling here reproduces what we know from the semantics of natural language!"
   ]
  },
  {
   "cell_type": "code",
   "execution_count": null,
   "metadata": {},
   "outputs": [],
   "source": []
  }
 ],
 "metadata": {
  "kernelspec": {
   "display_name": "Python 3",
   "language": "python",
   "name": "python3"
  },
  "language_info": {
   "codemirror_mode": {
    "name": "ipython",
    "version": 3
   },
   "file_extension": ".py",
   "mimetype": "text/x-python",
   "name": "python",
   "nbconvert_exporter": "python",
   "pygments_lexer": "ipython3",
   "version": "3.5.2"
  }
 },
 "nbformat": 4,
 "nbformat_minor": 2
}
